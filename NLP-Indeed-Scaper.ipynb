{
 "cells": [
  {
   "cell_type": "code",
   "execution_count": null,
   "metadata": {},
   "outputs": [],
   "source": [
    "import requests as rq\n",
    "from bs4 import BeautifulSoup as bs\n",
    "import time\n",
    "from random import randint\n",
    "import pandas as pd\n",
    "\n",
    "BaseURL = 'https://www.indeed.com'\n",
    "\n",
    "def SearchForJobs():\n",
    "    params = {'q':'Systems Administrator','l':'Manassas VA','fromage':'last','Sort':'Date'}\n",
    "    request = rq.get('https://www.indeed.com/jobs', params=params)\n",
    "    return request\n",
    "\n",
    "def MakeRequest(URL):\n",
    "    request = rq.get(URL)\n",
    "    return request\n",
    "\n",
    "def GetPageURLs(HTML):\n",
    "    Links = HTML.find_all('a', 'jobtitle')\n",
    "    URL_List = []\n",
    "    for link in Links:\n",
    "        URL_List.append(BaseURL + link['href'])\n",
    "    return URL_List\n",
    "\n",
    "def ExtractData(URLList):\n",
    "    RawDF = pd.DataFrame()\n",
    "    HTMLList = []\n",
    "\n",
    "    for URL in URLList:\n",
    "        bullets_list = []\n",
    "        time.sleep(randint(1,2))\n",
    "        request = MakeRequest(URL)\n",
    "        soup = bs(request.text)\n",
    "        bullets = soup.find_all('li')\n",
    "        \n",
    "        for bullet in bullets: \n",
    "            bullets_list.append(bullet.text.strip())\n",
    "     \n",
    "        joined_bullet_list = ','.join(bullets_list)\n",
    "        DFImport = {'Bullets': joined_bullet_list}\n",
    "        RawDF = RawDF.append(DFImport, ignore_index=True)\n",
    "    return RawDF\n",
    "\n",
    "SearchResultsHTML = SearchForJobs()\n",
    "URLList = GetPageURLs(bs(SearchResultsHTML.text))\n",
    "\n",
    "ExtractData(URLList)\n"
   ]
  }
 ],
 "metadata": {
  "kernelspec": {
   "display_name": "Python 3",
   "language": "python",
   "name": "python3"
  },
  "language_info": {
   "codemirror_mode": {
    "name": "ipython",
    "version": 3
   },
   "file_extension": ".py",
   "mimetype": "text/x-python",
   "name": "python",
   "nbconvert_exporter": "python",
   "pygments_lexer": "ipython3",
   "version": "3.7.4"
  }
 },
 "nbformat": 4,
 "nbformat_minor": 4
}
