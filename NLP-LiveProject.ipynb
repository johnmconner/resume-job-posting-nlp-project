{
 "cells": [
  {
   "cell_type": "code",
   "execution_count": null,
   "metadata": {},
   "outputs": [],
   "source": [
    "import os\n",
    "import pandas as pd\n",
    "from bs4 import BeautifulSoup as bs\n",
    "\n",
    "DataPath = os.path.join(os.getcwd(), 'data', 'html_job_postings')\n",
    "df = pd.DataFrame()\n",
    "\n",
    "for file in os.listdir(DataPath):\n",
    "    FullPath = os.path.join(DataPath, file)\n",
    "    \n",
    "    with open(FullPath, 'r', encoding='UTF-8') as Data:\n",
    "        paragraph_list = []\n",
    "        bullets_list = []\n",
    "        soup = bs(Data)\n",
    "        title = soup.title.text.strip()\n",
    "        paragraphs = soup.find_all('p')\n",
    "        if soup.find_all('ul'):\n",
    "            bullets = soup.find_all('ul')\n",
    "        else:\n",
    "            bullets = soup.find_all('li')\n",
    "\n",
    "\n",
    "        for paragraph in paragraphs:\n",
    "            paragraph_list.append(paragraph.text.strip())\n",
    "\n",
    "                \n",
    "        for bullet in bullets: \n",
    "            bullets_list.append(bullet.text.strip())\n",
    "\n",
    "        joined_bullet_list = ','.join(bullets_list)\n",
    "        joined_paragraph_list = ','.join(paragraph_list)\n",
    "        dict_to_import = {'Title':title,'Body': joined_paragraph_list,'Bullets':joined_bullet_list,'Path':file}\n",
    "        df = df.append(dict_to_import,ignore_index=True)\n",
    "\n",
    "df2 = df[df['Title'].str.match(r'.*Data.*')]\n",
    "#df2.to_csv(r'C:\\Users\\John\\Desktop\\python\\liveProject_resume\\resume-job-posting-nlp-project\\csv.csv')\n",
    "       \n"
   ]
  },
  {
   "cell_type": "code",
   "execution_count": null,
   "metadata": {},
   "outputs": [],
   "source": [
    "df2 = df[df['Title'].str.match(r'.*Data.*')]\n",
    "df2.to_csv(r'C:\\Users\\John\\Desktop\\python\\liveProject_resume\\resume-job-posting-nlp-project\\csv.csv')"
   ]
  },
  {
   "cell_type": "code",
   "execution_count": null,
   "metadata": {},
   "outputs": [],
   "source": [
    "df2['duplicate'] = df2.duplicated(subset='Bullets', keep=False)\n",
    "df2.loc[df2['duplicate'] == True]"
   ]
  },
  {
   "cell_type": "code",
   "execution_count": null,
   "metadata": {},
   "outputs": [],
   "source": [
    "df2.drop_duplicates(subset='Bullets', keep='first', inplace=True)"
   ]
  },
  {
   "cell_type": "code",
   "execution_count": null,
   "metadata": {},
   "outputs": [],
   "source": [
    "df2.to_csv(r'C:\\Users\\John\\Desktop\\python\\liveProject_resume\\resume-job-posting-nlp-project\\csv.csv')\n"
   ]
  },
  {
   "cell_type": "code",
   "execution_count": null,
   "metadata": {},
   "outputs": [],
   "source": [
    "df2 = df2.drop(columns='duplicate')"
   ]
  },
  {
   "cell_type": "code",
   "execution_count": null,
   "metadata": {},
   "outputs": [],
   "source": [
    "df2.describe"
   ]
  }
 ],
 "metadata": {
  "kernelspec": {
   "display_name": "Python 3",
   "language": "python",
   "name": "python3"
  },
  "language_info": {
   "codemirror_mode": {
    "name": "ipython",
    "version": 3
   },
   "file_extension": ".py",
   "mimetype": "text/x-python",
   "name": "python",
   "nbconvert_exporter": "python",
   "pygments_lexer": "ipython3",
   "version": "3.7.4"
  }
 },
 "nbformat": 4,
 "nbformat_minor": 4
}
